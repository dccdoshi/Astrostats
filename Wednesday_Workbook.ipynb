{
 "cells": [
  {
   "cell_type": "code",
   "execution_count": 1,
   "metadata": {},
   "outputs": [],
   "source": [
    "import numpy as np\n",
    "import matplotlib.pylab as plt\n",
    "import pandas as pd\n",
    "from typing import Tuple"
   ]
  },
  {
   "cell_type": "markdown",
   "metadata": {},
   "source": [
    "# Bayes Excersises Day Two\n",
    "Today, we will work on slightly more complicated probability distributions as well as work with astrophysical data!\n",
    "\n",
    "## Obtaining the Posterior Distribution for the Distance to the Pinwheel Galaxy \n",
    "You have recieved data on the Pinwheel Galaxy (M101) and you are tasked with trying to figure out what is the true distance to the galaxy ($d_{gal}$) given your data (D), $p(d_{gal}|D)$. This is the posterior probability! We know the posterior probability can be written in the following way: \n",
    "\n",
    "$$ p(d_{gal}|D) \\propto p(D|d_{gal})p(d_{gal}) $$\n",
    "\n",
    "Therefore, you have to calculate the liklihood and the prior to determine the posterior probability. \n",
    "\n",
    "### Load the Data\n",
    "First, load the data from the file \"galaxy_data.txt\". In this file there are 4 columns. The first and second column are the magnitude and error on magnitude measurements respectively. The third and fourth column are the distance and error on distance measurements respectively. This data was taken from NASA/IPAC EXTRAGALACTIC DATABASE."
   ]
  },
  {
   "cell_type": "code",
   "execution_count": 2,
   "metadata": {},
   "outputs": [
    {
     "data": {
      "text/plain": [
       "'\\nLoad you data in this code snippet\\n'"
      ]
     },
     "execution_count": 2,
     "metadata": {},
     "output_type": "execute_result"
    }
   ],
   "source": [
    "'''\n",
    "Load you data in this code snippet\n",
    "'''\n"
   ]
  },
  {
   "cell_type": "markdown",
   "metadata": {},
   "source": [
    "### Define your Probabilistic Model \n",
    "Write a function that defines what the probability is for a single measurement of $d_{gal}$. Here, you will have to consider using the variables $d_{m}$, the measured distance, $\\sigma_{m}$, the error in the measured distance, and $d_{gal}$, the true distance to the galaxy. \n",
    "\n",
    "<details>\n",
    "  <summary>Click to reveal hint</summary>\n",
    "  \n",
    "  The distribution is just a gaussian! It can be written as \n",
    "  $$ p(d_\\textrm{m} | d_\\textrm{gal}) = \\frac{1}{\\sqrt{2 \\pi \\sigma_m^2}} \\exp \\left[- \\frac{(d_\\textrm{gal} - d_\\textrm{m})^2}{2 \\sigma_m^2}\\right] $$\n",
    "  \n",
    "</details>"
   ]
  },
  {
   "cell_type": "code",
   "execution_count": 3,
   "metadata": {},
   "outputs": [],
   "source": [
    "def prob_model(d_gal: float, d_m: np.ndarray, sig_m: np.ndarray) -> np.ndarray:\n",
    "    '''\n",
    "    Write a function for the probability model of the coin toss\n",
    "\n",
    "    INPUTS:\n",
    "    d_gal: the parameter for the distance to the galaxy\n",
    "    d_m: the distance measurement \n",
    "    sig_m: the error in the distance measurement\n",
    "\n",
    "    OUTPUTS:\n",
    "    p: the probability of the measurement d_m (np.array)\n",
    "    '''\n",
    "\n",
    "    \n",
    "    return p "
   ]
  },
  {
   "cell_type": "markdown",
   "metadata": {},
   "source": [
    "### Likelihood Function \n",
    "Now determine what your likelihood function would be for a dataset! \n",
    "\n",
    "<details>\n",
    "  <summary>Click to reveal hint</summary>\n",
    "  \n",
    "  Remember that the measurements are indepent and indentically distributed. How does this help you determine the probability of the sequence of measurements?\n",
    "  \n",
    "</details>"
   ]
  },
  {
   "cell_type": "code",
   "execution_count": 4,
   "metadata": {},
   "outputs": [],
   "source": [
    "def likelihood(p_func: callable, D_distances: np.ndarray, D_errors: np.ndarray) -> Tuple[np.ndarray, np.ndarray]:\n",
    "    '''\n",
    "    Write a function that calculates the liklihood function for a given probablistic model and dataset\n",
    "\n",
    "    INPUTS:\n",
    "    p_func: a function that calculates the probability model\n",
    "    D_distances: the distances dataset\n",
    "    D_errors: the error dataset\n",
    "\n",
    "    OUTPUTS:\n",
    "    d_grid: the distance grid used to evaluate the function on \n",
    "    L: the likelihood function\n",
    "    '''\n",
    "\n",
    "\n",
    "    return d_grid, L"
   ]
  },
  {
   "cell_type": "markdown",
   "metadata": {},
   "source": [
    "### Prior \n",
    "Now we have to come up with a probability distribution for $d_{gal}$. What distribution could represent our prior belief in $d_{gal}$ for a guess that we make about the distance $d_{guess}$ and with a given uncertainty about our prior knowledge $\\sigma_p$.\n",
    "\n",
    "<details>\n",
    "  <summary>Click to reveal hint</summary>\n",
    "  \n",
    "  The distribution is just a gaussian! It can be written as \n",
    "  $$ p(d_\\textrm{gal}) = \\frac{1}{\\sqrt{2 \\pi \\sigma_p^2}} \\exp \\left[- \\frac{(d_\\textrm{gal} - d_\\textrm{guess})^2}{2 \\sigma_p^2}\\right] $$\n",
    "  \n",
    "</details>"
   ]
  },
  {
   "cell_type": "code",
   "execution_count": 5,
   "metadata": {},
   "outputs": [],
   "source": [
    "def prior(d_guess: float,sig_p: float)-> Tuple[np.ndarray,np.ndarray]:\n",
    "    '''\n",
    "    Write a function that calculates the liklihood function for a given probablistic model and dataset\n",
    "\n",
    "    INPUTS:\n",
    "    d_guess: a function that calculates the probability model\n",
    "    sig_p: the dataset\n",
    "\n",
    "    OUTPUTS:\n",
    "    d_grid: the distance grid used to evaluate the function on \n",
    "    P: the prior function\n",
    "    '''\n",
    "\n",
    "    return d_grid, prior"
   ]
  },
  {
   "cell_type": "markdown",
   "metadata": {},
   "source": [
    "## Plot the Posterior\n",
    "Now, create the posterior distribution! In this first scenario, randomly select 10 data measurements and consider the error on the data measurements to be the variance of those 10 data measurements."
   ]
  },
  {
   "cell_type": "code",
   "execution_count": 6,
   "metadata": {},
   "outputs": [
    {
     "data": {
      "text/plain": [
       "'\\nCalculate and plot the posterior here using only 10 data points\\n'"
      ]
     },
     "execution_count": 6,
     "metadata": {},
     "output_type": "execute_result"
    }
   ],
   "source": [
    "'''\n",
    "Calculate and plot the posterior here using only 10 data points\n",
    "'''\n"
   ]
  },
  {
   "cell_type": "markdown",
   "metadata": {},
   "source": [
    "Now, add in the rest of the dataset. You can do this in two ways. One way is to simply combine your datasets into one big dataset and to redo your analysis. Another way to approach this is to use your posterior distribution as the prior for a second round of Bayesian updating. The posterior that comes out of that is then the prior for a third round etc. Do you get the same final posterior with the two methods?"
   ]
  },
  {
   "cell_type": "code",
   "execution_count": 7,
   "metadata": {},
   "outputs": [
    {
     "data": {
      "text/plain": [
       "'\\nCalculate and plot the posterior using the two different methods and show the difference\\n'"
      ]
     },
     "execution_count": 7,
     "metadata": {},
     "output_type": "execute_result"
    }
   ],
   "source": [
    "'''\n",
    "Calculate and plot the posterior using the two different methods and show the difference\n",
    "'''\n"
   ]
  },
  {
   "cell_type": "markdown",
   "metadata": {},
   "source": [
    "## Parameter Estimation \n",
    "\n"
   ]
  },
  {
   "cell_type": "markdown",
   "metadata": {},
   "source": [
    "Now try to make inferences about $d_{gal}$ given the posterior distribution. \n",
    "\n",
    "1. Find the maximum a posteriori (the maximum of the posterior distribution)\n",
    "2. Plot the cumulative probability distribution of the posterior\n",
    "3. Find the 25th, 50th, and 75th percentiles\n",
    "4. Find the 95% credible region (the central portion of the posterior distribution that contains 95% of the values)"
   ]
  },
  {
   "cell_type": "code",
   "execution_count": 8,
   "metadata": {},
   "outputs": [
    {
     "data": {
      "text/plain": [
       "'\\nWrite the code for your parameter estimation here \\n'"
      ]
     },
     "execution_count": 8,
     "metadata": {},
     "output_type": "execute_result"
    }
   ],
   "source": [
    "'''\n",
    "Write the code for your parameter estimation here \n",
    "'''\n"
   ]
  },
  {
   "cell_type": "markdown",
   "metadata": {},
   "source": [
    "# 2D Posterior PDF\n",
    "\n",
    "Now, let's consider a slightly more complicated example where our measurements $d_m$ are drawn from an unspecified Gaussian distribution $N(\\mu, \\sigma)$ (they all have the same error). Therefore, in this case we need to determine both $d_{gal}$ and $\\sigma_{gal}$. What would the likelihood function look like in this case? Assume that the prior is just uniform therefore the posterior is proportional to the likelihood. Plot the posterior, do your results make sense?\n",
    "\n",
    "<details>\n",
    "  <summary>Click to reveal hint</summary>\n",
    "  \n",
    "  The only difference in our probabalistic model is that now $\\sigma_m$ is $\\sigma_{gal}$ and it is a parameter that we also need to provide since we don't know the error in our measurements anymore.\n",
    "  \n",
    "</details>"
   ]
  },
  {
   "cell_type": "code",
   "execution_count": null,
   "metadata": {},
   "outputs": [],
   "source": [
    "'''\n",
    "Write your code here\n",
    "'''"
   ]
  },
  {
   "cell_type": "markdown",
   "metadata": {},
   "source": [
    "## Marginalization\n",
    "In this case, where we have two unkown parameters $d_{gal}$ and $\\sigma_{ga}$, our posterior is given by:\n",
    "$$ p(d_{gal}, \\sigma_{gal}|D) \\propto p(D|d_gal, \\sigma_{gal})p(d_{gal}, \\sigma_{gal})  $$\n",
    "\n",
    "However, let's say we didn't care about our parameter $\\sigma_{gal}$ and consider it to be a nuisance parameter. Marginalize over this parameter in order to give us a posterior distribution that only considers $d_{gal}$. Do you find that you lost any information about $d_{gal}$? \n",
    "\n",
    "<details>\n",
    "  <summary>Click to reveal hint</summary>\n",
    "  \n",
    "  $$ p(d_{gal}|D) = \\int p(d_{gal}, \\sigma_{gal}|D) d\\sigma_{gal} $$\n",
    "  \n",
    "</details>"
   ]
  },
  {
   "cell_type": "code",
   "execution_count": 9,
   "metadata": {},
   "outputs": [
    {
     "data": {
      "text/plain": [
       "'\\nWrite your code here to marginalize the posterior\\n'"
      ]
     },
     "execution_count": 9,
     "metadata": {},
     "output_type": "execute_result"
    }
   ],
   "source": [
    "'''\n",
    "Write your code here to marginalize the posterior\n",
    "'''\n"
   ]
  },
  {
   "cell_type": "markdown",
   "metadata": {},
   "source": [
    "# Parameter Estimation for a Gaussian and a Uniform Background\n",
    "This example is taken from \"Statistics, Data Mining, and Machine Learning in Astronomy\" by Zeliko Ivezic, Andrew Connolly, Jacob VanderPlas, and Alexander Gray. \n",
    "\n",
    "In this example, let's consider the situation where we have an underlying model that is a mixture of a Gaussian distribution and a uniform distribution with some interval $W$. This model can reference a profile of a source in an image such as a galaxy with an unknown uniform background. Let's say we know the position of the source, $\\mu$, but we don't know the amplitude of the signal $A$ or the width $\\sigma$ (this is comparable to the point spread function). An example of the distribution is shown in the image below.  \n",
    "\n",
    "![Alt text](output.png)\n",
    "\n",
    "First, sample N measurements from this type of distributions for a given $A$, $\\mu$, $\\sigma$, and $W$. "
   ]
  },
  {
   "cell_type": "code",
   "execution_count": 10,
   "metadata": {},
   "outputs": [],
   "source": [
    "def create_measurements(A: float, mu: float, sigma: float, W: float, N: int) -> np.ndarray:\n",
    "    '''\n",
    "    Write a function that would give you N measurements from the distribution described above. \n",
    "\n",
    "    INPUTS: \n",
    "    A: the amplitude of the signal \n",
    "    mu: the mean location of the signal \n",
    "    sigma: the width of the signal\n",
    "    W: the interval over which the background noise and signal exists\n",
    "    N: the number of measurements\n",
    "\n",
    "    OUTPUTS: \n",
    "    xi: the measurements taken from the distribution\n",
    "    '''\n",
    "\n",
    "    return xi"
   ]
  },
  {
   "cell_type": "markdown",
   "metadata": {},
   "source": [
    "Now assuming that the priors for $A$ and $\\sigma$ are uniform plot the 2D posterior probability. Are you able to retrieve your original parameters?"
   ]
  },
  {
   "cell_type": "code",
   "execution_count": 11,
   "metadata": {},
   "outputs": [
    {
     "data": {
      "text/plain": [
       "'\\nWrite your solution here\\n'"
      ]
     },
     "execution_count": 11,
     "metadata": {},
     "output_type": "execute_result"
    }
   ],
   "source": [
    "'''\n",
    "Write your solution here\n",
    "'''"
   ]
  }
 ],
 "metadata": {
  "kernelspec": {
   "display_name": "Python 3.8.17",
   "language": "python",
   "name": "python3"
  },
  "language_info": {
   "codemirror_mode": {
    "name": "ipython",
    "version": 3
   },
   "file_extension": ".py",
   "mimetype": "text/x-python",
   "name": "python",
   "nbconvert_exporter": "python",
   "pygments_lexer": "ipython3",
   "version": "3.8.17"
  },
  "orig_nbformat": 4,
  "vscode": {
   "interpreter": {
    "hash": "d743db2db49d55f54c8cd61b236fbb767074939ce1277fd0c08dd0efb6e65afa"
   }
  }
 },
 "nbformat": 4,
 "nbformat_minor": 2
}
