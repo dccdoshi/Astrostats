{
  "cells": [
    {
      "cell_type": "code",
      "execution_count": 1,
      "metadata": {
        "id": "QG8YaARCcj36"
      },
      "outputs": [],
      "source": [
        "import numpy as np\n",
        "import matplotlib.pylab as plt\n",
        "from typing import Tuple"
      ]
    },
    {
      "cell_type": "markdown",
      "metadata": {
        "id": "MnRhRau-cj37"
      },
      "source": [
        "# Bayesian Inferencing Exercises\n",
        "Dhvani Doshi and Georgia Mraz"
      ]
    },
    {
      "cell_type": "markdown",
      "metadata": {
        "id": "UVs7giKRcj37"
      },
      "source": [
        "## Likelihood and MLE\n",
        "\n",
        "### Probabalistic Model\n",
        "Let's first start with trying to extract the MLE value for a simple coin toss example. Consider a coin that has two sides, head and tails. We want to find the parameter $\\theta$, the probability of the coin landing on heads. First, we would want to build a probabilistic model for this coin toss."
      ]
    },
    {
      "cell_type": "code",
      "execution_count": 2,
      "metadata": {
        "id": "PrSmoUHqcj38"
      },
      "outputs": [],
      "source": [
        "def prob_model(theta: float,x: np.ndarray) -> np.ndarray:\n",
        "    '''\n",
        "    Write a function for the probability model of the coin toss\n",
        "\n",
        "    INPUTS:\n",
        "    theta: the probability of the coin landing on heads\n",
        "    x: the outcome of the flip (ie heads or tails) (np.array)\n",
        "\n",
        "    OUTPUTS:\n",
        "    p: the probability of the outcome x (np.array)\n",
        "    '''\n",
        "\n",
        "\n",
        "    return p"
      ]
    },
    {
      "cell_type": "markdown",
      "metadata": {
        "id": "c_fugjqRcj38"
      },
      "source": [
        "### Data\n",
        "Now we want to create a dataset where we flip the coin N times and record the outcome."
      ]
    },
    {
      "cell_type": "code",
      "execution_count": 3,
      "metadata": {
        "id": "w9MaiQlccj38"
      },
      "outputs": [],
      "source": [
        "def create_data(N: int, true_theta=0.5) -> np.array:\n",
        "    '''\n",
        "    Write a function that gives the outcome of a coin toss N times using some given probability\n",
        "    of the coin landing on heads.\n",
        "\n",
        "    INPUTS:\n",
        "    N: the number of trails\n",
        "    true_theta: the true probability of the coin landing on heads\n",
        "\n",
        "    OUTPUTS:\n",
        "    D: the dataset\n",
        "    '''\n",
        "\n",
        "\n",
        "    return D"
      ]
    },
    {
      "cell_type": "markdown",
      "metadata": {
        "id": "jUUbuWt8cj38"
      },
      "source": [
        "### Likelihood\n",
        "\n",
        "Now, determine the likelihood function given the probability model and the dataset."
      ]
    },
    {
      "cell_type": "code",
      "execution_count": 4,
      "metadata": {
        "id": "EdZwm9ECcj38"
      },
      "outputs": [],
      "source": [
        "def likelihood(p_func: callable,D: np.ndarray) -> Tuple[np.ndarray, np.ndarray]:\n",
        "    '''\n",
        "    Write a function that calculates the liklihood function for a given\n",
        "    probablistic model and dataset\n",
        "\n",
        "    INPUTS:\n",
        "    p_func: a function that calculates the probability model\n",
        "    D: the dataset\n",
        "\n",
        "    OUTPUTS:\n",
        "    thetas: the theta grid used to evaluate the function on\n",
        "    L: the likelihood function\n",
        "    '''\n",
        "\n",
        "\n",
        "    return thetas,L"
      ]
    },
    {
      "cell_type": "markdown",
      "metadata": {
        "id": "F0PlSqLBcj39"
      },
      "source": [
        "### Maximum Likelihood Estimation (MLE)\n",
        "\n",
        "Now try to find the MLE for a given liklihood function with it's respective theta grid."
      ]
    },
    {
      "cell_type": "code",
      "execution_count": 5,
      "metadata": {
        "id": "htPssGdHcj39"
      },
      "outputs": [],
      "source": [
        "def MLE(thetas: np.ndarray, L: np.ndarray)-> float:\n",
        "    '''\n",
        "    Write a function to find the MLE for a given likelihood function with it's respective theta grid\n",
        "\n",
        "    INPUTS:\n",
        "    thetas: the theta grid\n",
        "    L: the likelihood function\n",
        "\n",
        "    OUTPUTS:\n",
        "    mle: the MLE value\n",
        "    '''\n",
        "\n",
        "\n",
        "    return mle"
      ]
    },
    {
      "cell_type": "markdown",
      "metadata": {
        "id": "AGwdYaNVcj39"
      },
      "source": [
        "### Experiment\n",
        "\n",
        "Now that you've written up all the functions, play around with different sized datasets and different types of biased coins and plot the likelihood function. Try to answer the following questions:\n",
        "\n",
        "1. Is the MLE an accurate parameter estimator?\n",
        "2. How does changing the size of the dataset affect the accuracy of the MLE?\n",
        "3. How does changing the size of the dataset affect the likelihood function?"
      ]
    },
    {
      "cell_type": "code",
      "execution_count": 6,
      "metadata": {
        "colab": {
          "base_uri": "https://localhost:8080/",
          "height": 35
        },
        "id": "xWZkWa6vcj39",
        "outputId": "c249e809-1089-4977-f70c-27764eccb18d"
      },
      "outputs": [
        {
          "data": {
            "text/plain": [
              "'\\nWrite your code here\\n'"
            ]
          },
          "execution_count": 6,
          "metadata": {},
          "output_type": "execute_result"
        }
      ],
      "source": [
        "'''\n",
        "Write your code here\n",
        "'''\n"
      ]
    },
    {
      "cell_type": "markdown",
      "metadata": {
        "id": "ToS1i7KMaQ1A"
      },
      "source": [
        "# Looking at a biased coin toss\n",
        "\n",
        "Let's says I just got back from Las Vegas and brought with me a coin. It looks like the coin from the above example, but I'm not sure if it's actually a fair coin. In other words, are we willing to bet that on each flip there will be a 50-50 chance that the coin will land on heads?\n",
        "\n",
        "We can test this using baysian statistics! Lets say that\n",
        "\n",
        "P(heads)= 𝜃\n",
        "\n",
        "and by completeing a number of coin flips we can determine the probability distribution on  𝜃.\n",
        "\n",
        "\n",
        "\n",
        "p($\\theta$|x,n)=$\\frac{p(x|n, \\theta) p(\\theta)}{p(x)}$\n",
        "\n",
        "Where n= Number of flips\n",
        "and x is number of times heads was recieved in a given number of tosses (data)\n",
        "\n",
        "\n",
        "I have already collected the data for you. I have flipped the coin a various number of times (from 1-100,000) and have counted the amount of times I got heads in each set of tossess. (Eg if I tossed the coin 10 times how many times did I recieve heads)\n",
        "\n",
        "The data is in the csv file \"biased_coin_toss.csv\" and gives the data as \"number of coin flips\", \"number of heads recieved\".\n",
        "\n",
        "\n",
        "\n"
      ]
    },
    {
      "cell_type": "code",
      "execution_count": 7,
      "metadata": {
        "id": "Mx1L5hyfaMHJ"
      },
      "outputs": [],
      "source": [
        "#all imports needed\n",
        "\n",
        "import numpy as np\n",
        "import matplotlib.pyplot as plt\n",
        "import scipy.stats as sps\n",
        "import scipy.integrate as spint\n",
        "from scipy.stats import binom\n",
        "import csv\n",
        "\n",
        "\n",
        "#values of theta needed\n",
        "\n",
        "theta_vals = np.linspace(0,1,100000)\n"
      ]
    },
    {
      "cell_type": "markdown",
      "metadata": {
        "id": "NzSK3QQ2aXs6"
      },
      "source": [
        "First Read in the CSV file to collect the data"
      ]
    },
    {
      "cell_type": "code",
      "execution_count": 8,
      "metadata": {
        "colab": {
          "base_uri": "https://localhost:8080/",
          "height": 35
        },
        "id": "x67lCT06aXPa",
        "outputId": "977013bc-01ec-41d6-d7a3-ba0f52d48c27"
      },
      "outputs": [
        {
          "data": {
            "text/plain": [
              "'\\n    your code here\\n\\n'"
            ]
          },
          "execution_count": 8,
          "metadata": {},
          "output_type": "execute_result"
        }
      ],
      "source": [
        "\n",
        "'''\n",
        "    your code here\n",
        "\n",
        "'''\n",
        "\n"
      ]
    },
    {
      "cell_type": "markdown",
      "metadata": {
        "id": "SkfzotHsa1A8"
      },
      "source": [
        "Now that we have our data taken in, lets code a function to calculte the posterior. In order to do this we need:\n",
        "\n",
        "Prior: we don't know if the coin is baised, start with a uniform prior! we will experierment with this later\n",
        "\n",
        "Liklehood function: which should be used?\n",
        "\n",
        "Make sure to plot your results!!--- what happens as we increase the number of flips?"
      ]
    },
    {
      "cell_type": "code",
      "execution_count": 9,
      "metadata": {
        "id": "O3hZ6nYoaUoR"
      },
      "outputs": [],
      "source": [
        "\n",
        "def posterior_func(num_heads,n_flips,theta_vals,prior):\n",
        "\n",
        "\n",
        "     '''\n",
        "    Write a function for the probability of the coin toss\n",
        "\n",
        "    INPUTS:\n",
        "    num_heads: number of heads recieved, index with the number of flips\n",
        "    n_flips: the number of flips for this run, index with the number of flips\n",
        "    theta_vals: theta values as an array this has already been defind for you\n",
        "    prior: the prior\n",
        "\n",
        "    OUTPUTS:\n",
        "    posterior: the final probability\n",
        "\n",
        "    '''\n",
        "\n",
        "     return posterior"
      ]
    },
    {
      "cell_type": "markdown",
      "metadata": {
        "id": "IT0c3Uuia6wy"
      },
      "source": [
        "So far we have only investigated the results with a uniform prior, What if we changed the prior?\n",
        "\n",
        "Lets create two different priors to test:\n",
        "\n",
        "1. How would we test if the coin was fair? Which distribution would show us this?  \n",
        "        \n",
        "A Guassian!!\n",
        "    \n",
        "2. How would we test if the coin is biased?\n",
        "    \n",
        "P($\\theta$) $\\propto$ $\\frac{1}{(\\theta+0.01)(1.01-\\theta)}$\n",
        "  \n",
        "This will be symmetric around $\\theta$= 0.5 and lean strongly towards $\\theta$=0 and $\\theta$=1\n",
        "    \n",
        "   "
      ]
    },
    {
      "cell_type": "code",
      "execution_count": 10,
      "metadata": {
        "id": "dTleLXMoa47O"
      },
      "outputs": [],
      "source": [
        "def gaussian_distribution(x, mu, sigma):\n",
        "\n",
        "    '''\n",
        "\n",
        "    INPUTS:\n",
        "    x: number of heads recieved, index with the number of flips\n",
        "    mu: what value should this be to make it a fair toss?\n",
        "    sigma: use 0.05\n",
        "\n",
        "    OUTPUTS:\n",
        "    the guassiaan\n",
        "\n",
        "    '''\n",
        "    return gauss\n"
      ]
    },
    {
      "cell_type": "code",
      "execution_count": 11,
      "metadata": {
        "id": "kclcAilsbAD0"
      },
      "outputs": [],
      "source": [
        "def biased_distibution(theta_vals):\n",
        "\n",
        "    '''\n",
        "\n",
        "    INPUTS:\n",
        "    Need the theta values already given\n",
        "\n",
        "    OUTPUTS:\n",
        "    a biased distribution\n",
        "\n",
        "    '''\n",
        "\n",
        "    return\n"
      ]
    },
    {
      "cell_type": "markdown",
      "metadata": {
        "id": "hWzL6UVBbFDl"
      },
      "source": [
        "Now plot our different posterior distributions using different priors. What happens to the as the number of coin flips increase? Why is that?"
      ]
    },
    {
      "cell_type": "code",
      "execution_count": 12,
      "metadata": {
        "id": "GJUmzPHbbB1X"
      },
      "outputs": [],
      "source": [
        "# your plots!"
      ]
    },
    {
      "cell_type": "markdown",
      "metadata": {
        "id": "mrf1uLcmtylw"
      },
      "source": [
        "# Conclusions: Is the coin biased?"
      ]
    },
    {
      "cell_type": "code",
      "execution_count": null,
      "metadata": {
        "id": "RHsd-LJVbHMz"
      },
      "outputs": [],
      "source": []
    },
    {
      "cell_type": "markdown",
      "metadata": {
        "id": "IDJKsTduvTa_"
      },
      "source": [
        "**Example adapted from Data Analysis: A baysian tutorial by D.S.Silvia and Statistical Methods UVA Course Material**"
      ]
    },
    {
      "cell_type": "code",
      "execution_count": null,
      "metadata": {
        "id": "QkHrNePrvWKY"
      },
      "outputs": [],
      "source": []
    }
  ],
  "metadata": {
    "colab": {
      "provenance": []
    },
    "kernelspec": {
      "display_name": "Python 3.8.17",
      "language": "python",
      "name": "python3"
    },
    "language_info": {
      "codemirror_mode": {
        "name": "ipython",
        "version": 3
      },
      "file_extension": ".py",
      "mimetype": "text/x-python",
      "name": "python",
      "nbconvert_exporter": "python",
      "pygments_lexer": "ipython3",
      "version": "3.8.17"
    },
    "vscode": {
      "interpreter": {
        "hash": "d743db2db49d55f54c8cd61b236fbb767074939ce1277fd0c08dd0efb6e65afa"
      }
    }
  },
  "nbformat": 4,
  "nbformat_minor": 0
}
